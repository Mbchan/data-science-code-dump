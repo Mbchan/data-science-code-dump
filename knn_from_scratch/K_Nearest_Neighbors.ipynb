{
 "cells": [
  {
   "cell_type": "markdown",
   "metadata": {},
   "source": [
    "# Coding Algorithms\n",
    "Data Science involves the use of algorithms on data. These are good for predicting, classifying, engineering, and summarizing data, to name a few use cases.\n",
    "\n",
    "## Expectations\n",
    "Today, we will explore how to code and use a simple algorithm in different use cases. The algorithm we will code is known as the **K Nearest Neighbor** or **KNN**.   \n",
    "\n",
    "Read more: \n",
    "https://scikit-learn.org/stable/modules/neighbors.html  \n",
    "https://www.edureka.co/blog/k-nearest-neighbors-algorithm/"
   ]
  },
  {
   "cell_type": "markdown",
   "metadata": {},
   "source": [
    "## Coding the Algorithm\n",
    "KNN predicts a **target variable** based on **feature variables**. The algorithm requires a **training set** to use for prediction. The prediction will be done by looking into **K** number of nearest neighbors in the training set, and get the **mode** (if classifier) or **mean** (if regression)."
   ]
  },
  {
   "cell_type": "markdown",
   "metadata": {},
   "source": [
    "### Finding the Nearest Neighbor\n",
    "To find the nearest neighbor, we will need to establish a distance metric. There are many commonly used distance metrics, such as manhattan or cosine, but the most commonly used is the **euclidean**.\n",
    "\n",
    "The funciton for calculating euclidean distance is provided below."
   ]
  },
  {
   "cell_type": "code",
   "execution_count": 98,
   "metadata": {
    "ExecuteTime": {
     "end_time": "2021-06-04T06:37:30.002972Z",
     "start_time": "2021-06-04T06:37:29.997048Z"
    }
   },
   "outputs": [],
   "source": [
    "import math\n",
    "def euclidean(X1, X2):\n",
    "    '''\n",
    "    Return the euclidean distance between two matrixes.\n",
    "    '''\n",
    "    pass"
   ]
  },
  {
   "cell_type": "code",
   "execution_count": 23,
   "metadata": {
    "ExecuteTime": {
     "end_time": "2021-06-04T05:16:16.823963Z",
     "start_time": "2021-06-04T05:16:16.818377Z"
    }
   },
   "outputs": [
    {
     "data": {
      "text/plain": [
       "5.0"
      ]
     },
     "execution_count": 23,
     "metadata": {},
     "output_type": "execute_result"
    }
   ],
   "source": [
    "X1 = [0, 0]\n",
    "X2 = [3, 4]\n",
    "euclidean(X1, X2)"
   ]
  },
  {
   "cell_type": "markdown",
   "metadata": {},
   "source": [
    "### Developing the Algorithm\n",
    "Complete the function below."
   ]
  },
  {
   "cell_type": "code",
   "execution_count": 97,
   "metadata": {
    "ExecuteTime": {
     "end_time": "2021-06-04T06:37:26.637368Z",
     "start_time": "2021-06-04T06:37:26.630408Z"
    }
   },
   "outputs": [],
   "source": [
    "def getkneighbors(train, test, k):\n",
    "    '''\n",
    "    Identify the k number of neighbors from the train set for each row in the set.\n",
    "    \n",
    "    Input: train and test are iterables of features.\n",
    "    Output: list of k indixes for each in the test set.\n",
    "    '''\n",
    "    neighbors = []\n",
    "\n",
    "    return neighbors"
   ]
  },
  {
   "cell_type": "markdown",
   "metadata": {},
   "source": [
    "hint:\n",
    "\n",
    "* `sorted(iterable, key=None, reverse=False)` sorts the elements of a given iterable in a specific order (either ascending or descending) and returns the sorted iterable as a list.  \n",
    "Setting `key=lambda x:x[1]` gets the 2nd inner value of a list of lists. See example below.\n",
    "* `enumerate(iterable, start=0)` adds counter to an iterable and returns it (the enumerate object)."
   ]
  },
  {
   "cell_type": "code",
   "execution_count": 24,
   "metadata": {
    "ExecuteTime": {
     "end_time": "2021-06-04T05:32:54.887976Z",
     "start_time": "2021-06-04T05:32:54.862651Z"
    }
   },
   "outputs": [
    {
     "data": {
      "text/plain": [
       "[[0, 1], [2, 2], [1, 3]]"
      ]
     },
     "execution_count": 24,
     "metadata": {},
     "output_type": "execute_result"
    }
   ],
   "source": [
    "sorted([[0,1], [1,3], [2,2]], key=lambda x:x[1])\n",
    "#sorts each inner list by the 2nd value (1, 3, 2). "
   ]
  },
  {
   "cell_type": "code",
   "execution_count": 48,
   "metadata": {
    "ExecuteTime": {
     "end_time": "2021-06-04T05:52:02.282080Z",
     "start_time": "2021-06-04T05:52:02.273043Z"
    }
   },
   "outputs": [
    {
     "name": "stdout",
     "output_type": "stream",
     "text": [
      "[[0, 1], [2, 1]]\n"
     ]
    }
   ],
   "source": [
    "train_features = [[1,2,3],\n",
    "                  [2,3,4], \n",
    "                  [10,11,12]]\n",
    "test = [\n",
    "        [1,1,1], #[1,2,3] is the nearest neighbor\n",
    "        [10,10,10] #[10,11,12] is the nearest neighbor\n",
    "       ]\n",
    "\n",
    "neighbors = getkneighbors(train_features, test, k=2)\n",
    "print(neighbors)\n",
    "#expected output: [[0, 1], [2, 1]]"
   ]
  },
  {
   "cell_type": "markdown",
   "metadata": {},
   "source": [
    "Now that we have a way to identify the nearest neighbor, we need to get the **mode** (if categorical/classification) or **mean** (if continuous/regression)."
   ]
  },
  {
   "cell_type": "code",
   "execution_count": 114,
   "metadata": {
    "ExecuteTime": {
     "end_time": "2021-06-04T06:40:34.473700Z",
     "start_time": "2021-06-04T06:40:34.466273Z"
    }
   },
   "outputs": [],
   "source": [
    "import statistics\n",
    "def predictknn(train, neighbors, method):\n",
    "    '''\n",
    "    Get the prediction by mode or mean of train target values if classification or regression. \n",
    "    \n",
    "    Input: \n",
    "     - train is an iterable of targets\n",
    "     - neighbors is the output of kneighbors()\n",
    "     - method is \"classification\" or \"regression\"\n",
    "    Output: list of predictions for each test value\n",
    "    '''\n",
    "    predictions = []\n",
    "    \n",
    "    return predictions"
   ]
  },
  {
   "cell_type": "markdown",
   "metadata": {},
   "source": [
    "hint:\n",
    "`statistics.mode(iterable)` and\n",
    "`statistics.mean(iterable)` exists."
   ]
  },
  {
   "cell_type": "code",
   "execution_count": 50,
   "metadata": {
    "ExecuteTime": {
     "end_time": "2021-06-04T05:52:59.809019Z",
     "start_time": "2021-06-04T05:52:59.796584Z"
    }
   },
   "outputs": [
    {
     "data": {
      "text/plain": [
       "[3, 7.5]"
      ]
     },
     "execution_count": 50,
     "metadata": {},
     "output_type": "execute_result"
    }
   ],
   "source": [
    "train_target = [1, 5, 10]\n",
    "\n",
    "predictknn(train_target, neighbors, method=\"regression\")\n",
    "#expected output: [3, 7.5]"
   ]
  },
  {
   "cell_type": "markdown",
   "metadata": {},
   "source": [
    "Of course, we can also combine the two functions we just created."
   ]
  },
  {
   "cell_type": "code",
   "execution_count": 51,
   "metadata": {
    "ExecuteTime": {
     "end_time": "2021-06-04T05:55:07.254726Z",
     "start_time": "2021-06-04T05:55:07.244244Z"
    }
   },
   "outputs": [],
   "source": [
    "def KNN_train_predict(X_train, y_train, X_test, K, method):\n",
    "    return predictknn(y_train, getkneighbors(X_train, X_test, K), method)"
   ]
  },
  {
   "cell_type": "code",
   "execution_count": 52,
   "metadata": {
    "ExecuteTime": {
     "end_time": "2021-06-04T05:55:29.257431Z",
     "start_time": "2021-06-04T05:55:29.246869Z"
    }
   },
   "outputs": [
    {
     "data": {
      "text/plain": [
       "[3, 7.5]"
      ]
     },
     "execution_count": 52,
     "metadata": {},
     "output_type": "execute_result"
    }
   ],
   "source": [
    "KNN_train_predict(train_features, train_target, test, 2, \"regression\")\n",
    "#expected output: [3, 7.5]"
   ]
  },
  {
   "cell_type": "markdown",
   "metadata": {},
   "source": [
    "## Using the Algorithm for Prediction\n",
    "We will look at the iris dataset as an example on how to use the algorithm we have coded. You can access the iris dataset using sklearn:\n",
    "```\n",
    "from sklearn.datasets import load_iris\n",
    "iris = load_iris()\n",
    "```\n",
    "or from the provided csv files."
   ]
  },
  {
   "cell_type": "code",
   "execution_count": 133,
   "metadata": {
    "ExecuteTime": {
     "end_time": "2021-06-04T06:50:45.723604Z",
     "start_time": "2021-06-04T06:50:45.653102Z"
    }
   },
   "outputs": [],
   "source": [
    "import pandas as pd\n",
    "X_train = pd.read_csv('X_train.csv', index_col = 0).values.tolist()\n",
    "X_test = pd.read_csv('X_test.csv', index_col = 0).values.tolist()\n",
    "y_train = pd.read_csv('y_train.csv', index_col = 0).values.tolist()\n",
    "\n",
    "#y_test is not needed for this exercise, but can be used to measure accuracy.\n",
    "y_test = pd.read_csv('y_test.csv', index_col = 0).values.tolist()\n",
    "\n",
    "#clean y values to convert inner lists\n",
    "y_train = [x[0] for x in y_train]\n",
    "y_test = [x[0] for x in y_test]"
   ]
  },
  {
   "cell_type": "code",
   "execution_count": 112,
   "metadata": {
    "ExecuteTime": {
     "end_time": "2021-06-04T06:40:25.346133Z",
     "start_time": "2021-06-04T06:40:25.342423Z"
    }
   },
   "outputs": [
    {
     "name": "stdout",
     "output_type": "stream",
     "text": [
      "[1, 2, 1, 0, 2]\n"
     ]
    }
   ],
   "source": [
    "print(y_train[:5]) \n",
    "#y_train is categorical, and therefore the method is classification"
   ]
  },
  {
   "cell_type": "code",
   "execution_count": 116,
   "metadata": {
    "ExecuteTime": {
     "end_time": "2021-06-04T06:40:47.390812Z",
     "start_time": "2021-06-04T06:40:47.366195Z"
    },
    "scrolled": false
   },
   "outputs": [],
   "source": [
    "predict_y_test = KNN_train_predict(X_train, y_train, X_test, 2, \"classification\")"
   ]
  },
  {
   "cell_type": "code",
   "execution_count": 117,
   "metadata": {
    "ExecuteTime": {
     "end_time": "2021-06-04T06:41:52.840651Z",
     "start_time": "2021-06-04T06:41:52.830079Z"
    }
   },
   "outputs": [
    {
     "name": "stdout",
     "output_type": "stream",
     "text": [
      "0.98\n"
     ]
    }
   ],
   "source": [
    "#compute accuracy for categorical:\n",
    "identical = 0\n",
    "for i in range(len(y_test)):\n",
    "    if y_test[i] == predict_y_test[i]: identical += 1\n",
    "print(identical/len(y_test))"
   ]
  },
  {
   "cell_type": "markdown",
   "metadata": {},
   "source": [
    "Bonus: How will you find the best K value for the highest accuracy?"
   ]
  },
  {
   "cell_type": "markdown",
   "metadata": {},
   "source": [
    "## Using the Algorithm for Imputing\n",
    "Now that we know we can predict data using algorithms, we can redefine the 'target' variable to not just be a field we want to predict, but even a field with missing data!  \n",
    "\n",
    "Filling up missing data is called **imputing**."
   ]
  },
  {
   "cell_type": "markdown",
   "metadata": {},
   "source": [
    "Exercise: Look at the `X_impute.csv` file. Fill in the null values of column 3 using your KNN script."
   ]
  },
  {
   "cell_type": "code",
   "execution_count": 138,
   "metadata": {
    "ExecuteTime": {
     "end_time": "2021-06-04T06:51:31.945370Z",
     "start_time": "2021-06-04T06:51:31.934828Z"
    }
   },
   "outputs": [],
   "source": [
    "X_impute = pd.read_csv('X_impute.csv', index_col = 0).values.tolist()"
   ]
  },
  {
   "cell_type": "code",
   "execution_count": 139,
   "metadata": {
    "ExecuteTime": {
     "end_time": "2021-06-04T06:51:33.717095Z",
     "start_time": "2021-06-04T06:51:33.707831Z"
    }
   },
   "outputs": [
    {
     "data": {
      "text/plain": [
       "[[6.1, 2.8, 4.7, 1.2],\n",
       " [5.7, 3.8, 1.7, 0.3],\n",
       " [7.7, 2.6, 6.9, 2.3],\n",
       " [6.0, 2.9, 4.5, 1.5],\n",
       " [6.8, 2.8, 4.8, 1.4],\n",
       " [5.4, 3.4, 1.5, 0.4],\n",
       " [5.6, 2.9, 3.6, 1.3],\n",
       " [6.9, 3.1, 5.1, 2.3],\n",
       " [6.2, 2.2, nan, 1.5],\n",
       " [5.8, 2.7, 3.9, 1.2],\n",
       " [6.5, 3.2, nan, 2.0],\n",
       " [4.8, 3.0, 1.4, 0.1],\n",
       " [5.5, 3.5, 1.3, 0.2],\n",
       " [4.9, 3.1, 1.5, 0.1],\n",
       " [5.1, 3.8, 1.5, 0.3],\n",
       " [6.3, 3.3, 4.7, 1.6],\n",
       " [6.5, 3.0, 5.8, 2.2],\n",
       " [5.6, 2.5, nan, 1.1],\n",
       " [5.7, 2.8, 4.5, 1.3],\n",
       " [6.4, 2.8, nan, 2.2],\n",
       " [4.7, 3.2, 1.6, 0.2],\n",
       " [6.1, 3.0, 4.9, 1.8],\n",
       " [5.0, 3.4, 1.6, 0.4],\n",
       " [6.4, 2.8, 5.6, 2.1],\n",
       " [7.9, 3.8, 6.4, 2.0],\n",
       " [6.7, 3.0, 5.2, 2.3],\n",
       " [6.7, 2.5, nan, 1.8],\n",
       " [6.8, 3.2, 5.9, 2.3],\n",
       " [4.8, 3.0, 1.4, 0.3],\n",
       " [4.8, 3.1, nan, 0.2],\n",
       " [4.6, 3.6, nan, 0.2],\n",
       " [5.7, 4.4, 1.5, 0.4],\n",
       " [6.7, 3.1, nan, 1.4],\n",
       " [4.8, 3.4, 1.6, 0.2],\n",
       " [4.4, 3.2, 1.3, 0.2],\n",
       " [6.3, 2.5, 5.0, 1.9],\n",
       " [6.4, 3.2, 4.5, 1.5],\n",
       " [5.2, 3.5, nan, 0.2],\n",
       " [5.0, 3.6, 1.4, 0.2],\n",
       " [5.2, 4.1, 1.5, 0.1],\n",
       " [5.8, 2.7, 5.1, 1.9],\n",
       " [6.0, 3.4, 4.5, 1.6],\n",
       " [6.7, 3.1, 4.7, 1.5],\n",
       " [5.4, 3.9, 1.3, 0.4],\n",
       " [5.4, 3.7, 1.5, 0.2],\n",
       " [5.5, 2.4, 3.7, 1.0],\n",
       " [6.3, 2.8, 5.1, 1.5],\n",
       " [6.4, 3.1, 5.5, 1.8],\n",
       " [6.6, 3.0, 4.4, 1.4],\n",
       " [7.2, 3.6, 6.1, 2.5]]"
      ]
     },
     "execution_count": 139,
     "metadata": {},
     "output_type": "execute_result"
    }
   ],
   "source": [
    "X_impute"
   ]
  }
 ],
 "metadata": {
  "kernelspec": {
   "display_name": "Python 3",
   "language": "python",
   "name": "python3"
  },
  "language_info": {
   "codemirror_mode": {
    "name": "ipython",
    "version": 3
   },
   "file_extension": ".py",
   "mimetype": "text/x-python",
   "name": "python",
   "nbconvert_exporter": "python",
   "pygments_lexer": "ipython3",
   "version": "3.8.3"
  },
  "toc": {
   "base_numbering": 1,
   "nav_menu": {},
   "number_sections": true,
   "sideBar": true,
   "skip_h1_title": true,
   "title_cell": "Table of Contents",
   "title_sidebar": "Contents",
   "toc_cell": false,
   "toc_position": {},
   "toc_section_display": true,
   "toc_window_display": false
  }
 },
 "nbformat": 4,
 "nbformat_minor": 4
}
