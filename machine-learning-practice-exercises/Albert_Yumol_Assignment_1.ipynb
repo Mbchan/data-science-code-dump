{
 "cells": [
  {
   "cell_type": "markdown",
   "metadata": {
    "colab_type": "text",
    "id": "51dZwqDNc9x6"
   },
   "source": [
    "# Data Science - Getting Started with Python\n",
    "\n",
    "Following is the exercise you should complete. Workflow:\n",
    "\n",
    "1. Complete the exercise! This means fill out the code cells, and run them (shift-enter or click the play button that appears when you're in one of them)\n",
    "2. Take a look at your work, and write comments/add text cells as appropriate to explain"
   ]
  },
  {
   "cell_type": "markdown",
   "metadata": {
    "colab_type": "text",
    "id": "I6biutgwdgpb"
   },
   "source": [
    "## Exercise 1 - A bit of Math\n",
    "\n",
    "For these \"word\" problems, use Python to clearly solve them. Your code will \"show your work\" - use good variable names! To show your answers you should write a `print()` statement at the end.\n",
    "\n",
    "### a) It's a gas\n",
    "\n",
    "A taxi driver is calculating their profit over two weeks by adding up the fares they charge and subtracting the cost of gas. The price of gas changes over time - it was `$3.52`/gallon the first week and `$3.57`/gallon this second week. Their car gets 20 miles per gallon.\n",
    "\n",
    "For the first week the driver had a total of 23 passengers with average `$29` fare each, and drove a total of 160 miles. For the second week they had 17 passengers with average `$30` fare each, and drove a total of 220 miles. Assume that for both weeks they purchase all the gas needed during that week (i.e. they refuel every week to maintain a constant level of gas in the tank).\n",
    "\n",
    "Based on the above, answer the following questions:\n",
    "\n",
    "- What is their total profit over both weeks?\n",
    "- During which week was their average (mean) profit per passenger higher?\n"
   ]
  },
  {
   "cell_type": "code",
   "execution_count": 18,
   "metadata": {
    "colab": {},
    "colab_type": "code",
    "id": "CWJeYQW6AoGf"
   },
   "outputs": [
    {
     "name": "stdout",
     "output_type": "stream",
     "text": [
      "The total profit calculated by the taxi driver for both weeks is 1109.57 dollars.\n",
      "Also, the average profit per passenger is higher for Week 1 with a value of 27.78 dollars as compared to Week 2 with 27.69 dollars.\n"
     ]
    }
   ],
   "source": [
    "###### REVENUE OF THE MATHEMATICALLY CURIOUS TAXI DRIVER ######\n",
    "\n",
    "fare_week1 = (23.0) * (29.0)\n",
    "gas_week1 = 3.52*((160.0) / (20.0))\n",
    "revenue_week1 = fare_week1 - gas_week1\n",
    "profit_per_passenger1 = revenue_week1 / 23.0\n",
    "\n",
    "fare_week2 = (17.0) * (30.0)\n",
    "gas_week2 = 3.57*((220.0) / (20.0))\n",
    "revenue_week2 = fare_week2 - gas_week2\n",
    "profit_per_passenger2 = revenue_week2 / 17.0\n",
    "\n",
    "print(f'The total profit calculated by the taxi driver for both weeks is {(revenue_week1 + revenue_week2):.2f} dollars.')\n",
    "print(f'Also, the average profit per passenger is higher for Week 1 with a value of {(profit_per_passenger1):.2f} dollars as compared to Week 2 with {(profit_per_passenger2):.2f} dollars.')"
   ]
  }
 ],
 "metadata": {
  "colab": {
   "collapsed_sections": [],
   "name": "LSDS Intro Assignment 1 - Getting Started with Python.ipynb",
   "provenance": [],
   "version": "0.3.2"
  },
  "kernelspec": {
   "display_name": "Python 3",
   "language": "python",
   "name": "python3"
  },
  "language_info": {
   "codemirror_mode": {
    "name": "ipython",
    "version": 3
   },
   "file_extension": ".py",
   "mimetype": "text/x-python",
   "name": "python",
   "nbconvert_exporter": "python",
   "pygments_lexer": "ipython3",
   "version": "3.7.3"
  }
 },
 "nbformat": 4,
 "nbformat_minor": 1
}
