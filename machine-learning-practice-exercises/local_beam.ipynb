{
 "cells": [
  {
   "cell_type": "code",
   "execution_count": 1,
   "metadata": {},
   "outputs": [
    {
     "name": "stderr",
     "output_type": "stream",
     "text": [
      "/opt/tljh/user/lib/python3.6/site-packages/apache_beam/__init__.py:84: UserWarning: Some syntactic constructs of Python 3 are not yet fully supported by Apache Beam.\n",
      "  'Some syntactic constructs of Python 3 are not yet fully supported by '\n"
     ]
    },
    {
     "name": "stdout",
     "output_type": "stream",
     "text": [
      "('cat', 2)\n",
      "('dog', 2)\n",
      "('snake', 1)\n"
     ]
    }
   ],
   "source": [
    "import apache_beam as beam\n",
    "from apache_beam.options.pipeline_options import PipelineOptions\n",
    "\n",
    "with beam.Pipeline(options=PipelineOptions()) as p:\n",
    "    lines = p | beam.Create(['cat dog', 'snake cat', 'dog'])\n",
    "    (lines\n",
    "    | beam.FlatMap(lambda x: x.split(' '))    # One to many mapping, including none\n",
    "    | beam.Map(lambda x: (x, 1))                # One to one mapping\n",
    "    | beam.CombinePerKey(sum)                   # Like shuffle, previous phase should have yielded key,value pair\n",
    "    | beam.ParDo(lambda k: print(k)))           # Generic map function. \n"
   ]
  },
  {
   "cell_type": "code",
   "execution_count": 7,
   "metadata": {},
   "outputs": [
    {
     "name": "stdout",
     "output_type": "stream",
     "text": [
      "['Household id', 'Age', 'Gender', 'Profession']\n",
      "('m', 34)\n",
      "('f', 40)\n"
     ]
    }
   ],
   "source": [
    "# Class assignment - Write code\n",
    "# From the household.csv file dump number of male and females.\n",
    "import csv\n",
    "\n",
    "with open('/home/data/household.csv','r') as f:\n",
    "   with beam.Pipeline(options=PipelineOptions()) as p:\n",
    "       data = csv.reader(f)\n",
    "       print(next(data))\n",
    "       lines = p | beam.Create(data)\n",
    "       (lines\n",
    "        | beam.Map(lambda x: ('m', 1) \\\n",
    "                   if x[2] == 'm' \\\n",
    "                   else ('f', 1))\n",
    "        | beam.CombinePerKey(sum)\n",
    "        | beam.ParDo(lambda k: print(k))\n",
    "       )"
   ]
  },
  {
   "cell_type": "code",
   "execution_count": 9,
   "metadata": {},
   "outputs": [
    {
     "name": "stdout",
     "output_type": "stream",
     "text": [
      "['Household id', 'Age', 'Gender', 'Profession']\n",
      "('working-age', 48)\n",
      "('children', 21)\n",
      "('old', 5)\n"
     ]
    }
   ],
   "source": [
    "# Class assignment - Write code\n",
    "# From the household.csv file dump number of children (<18 years), working-age (19-60 years), old (>60 years).\n",
    "\n",
    "# THE GOAL IS TO COUNT EVERY OCCURANCE OF THE CATEGORY DESCRIBED ABOVE\n",
    "with open('/home/data/household.csv','r') as f: # First we read data from the CSV file.\n",
    "   with beam.Pipeline(options=PipelineOptions()) as p:\n",
    "       data = csv.reader(f)\n",
    "       print(next(data))\n",
    "       lines = p | beam.Create(data)\n",
    "       (lines\n",
    "        | beam.Map(lambda x: ('children', 1) \\\n",
    "                   if int(x[1]) < 18 \\\n",
    "                   else ('working-age', 1) \\\n",
    "                   if 18 <= int(x[1]) <= 60 \\\n",
    "                   else ('old', 1))\n",
    "        | beam.CombinePerKey(sum)\n",
    "        | beam.ParDo(lambda k: print(k))\n",
    "       )"
   ]
  },
  {
   "cell_type": "code",
   "execution_count": 11,
   "metadata": {},
   "outputs": [
    {
     "name": "stdout",
     "output_type": "stream",
     "text": [
      "<class 'pandas.core.frame.DataFrame'>\n",
      "RangeIndex: 74 entries, 0 to 73\n",
      "Data columns (total 4 columns):\n",
      "Household id    74 non-null int64\n",
      "Age             74 non-null int64\n",
      "Gender          74 non-null object\n",
      "Profession      74 non-null object\n",
      "dtypes: int64(2), object(2)\n",
      "memory usage: 2.4+ KB\n"
     ]
    }
   ],
   "source": [
    "# Class assignment - Describe phases and transforms, no need to code.\n",
    "# From the household.csv how would you compute median savings using beam?\n",
    "import pandas as pd\n",
    "\n",
    "data1 = pd.read_csv(r'/home/data/household.csv')\n",
    "data1.info(verbose=True)"
   ]
  },
  {
   "cell_type": "code",
   "execution_count": 12,
   "metadata": {},
   "outputs": [
    {
     "name": "stdout",
     "output_type": "stream",
     "text": [
      "original ('cube', 1000)\n",
      "original ('square', 225)\n",
      "original ('square', 144)\n",
      "original ('cube', 343)\n",
      "('cube', 1343)\n",
      "('square', 369)\n"
     ]
    }
   ],
   "source": [
    "import apache_beam as beam\n",
    "from apache_beam.options.pipeline_options import PipelineOptions\n",
    "\n",
    "def output2(num):\n",
    "   if num < 5:\n",
    "       return []\n",
    "   if num <= 10:\n",
    "       return [(\"cube\", num * num * num)]\n",
    "   else :\n",
    "       return [(\"square\", num * num)]\n",
    "\n",
    "def mySum(input):\n",
    "#    ('cube', [1000, 343])\n",
    "   (k, v) = input\n",
    "   sumx = 0\n",
    "   for vi in v:\n",
    "       sumx += vi\n",
    "   return (k, sumx)\n",
    "\n",
    "with beam.Pipeline(options=PipelineOptions()) as p:\n",
    "   lines1 = p | \"create1\" >> beam.Create([1, 3, 10])\n",
    "   lines2 = p | \"create2\" >> beam.Create([15, 12, 7])\n",
    "   lines = (lines1, lines2) | beam.Flatten()\n",
    "   lines = lines | beam.FlatMap(output2)\n",
    "   (lines | \"l1\" >> beam.ParDo(lambda k: print(\"original\", k)))           # Generic map function.\n",
    "   linesGrouped = lines | beam.GroupByKey()\n",
    "   linesGrouped = linesGrouped | beam.Map(mySum)\n",
    "   (linesGrouped | \"lg\" >> beam.ParDo(lambda k: print(k)))           # Generic map function."
   ]
  }
 ],
 "metadata": {
  "kernelspec": {
   "display_name": "Python 3",
   "language": "python",
   "name": "python3"
  },
  "language_info": {
   "codemirror_mode": {
    "name": "ipython",
    "version": 3
   },
   "file_extension": ".py",
   "mimetype": "text/x-python",
   "name": "python",
   "nbconvert_exporter": "python",
   "pygments_lexer": "ipython3",
   "version": "3.6.7"
  }
 },
 "nbformat": 4,
 "nbformat_minor": 2
}
