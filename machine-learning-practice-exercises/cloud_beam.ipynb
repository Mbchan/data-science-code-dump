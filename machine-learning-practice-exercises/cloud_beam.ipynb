{
 "cells": [
  {
   "cell_type": "code",
   "execution_count": 25,
   "metadata": {},
   "outputs": [
    {
     "name": "stdout",
     "output_type": "stream",
     "text": [
      "/home/jupyter-albert.yumol@gmail-e7c4e/eskwelabshack-5b0b7c34019a.json\n",
      "SELECT title FROM `bigquery-public-data.hacker_news.full` where type = 'job' and title is not null order by score limit 100;\n"
     ]
    },
    {
     "name": "stderr",
     "output_type": "stream",
     "text": [
      "WARNING:root:Dataset eskwelabshack:temp_dataset_3fc22a09267d4d5b915d54b3d233c0ac does not exist so we will create it as temporary with location=US\n",
      "WARNING:root:Deleting 1 existing files in target path matching: -*-of-%(num_shards)05d\n"
     ]
    }
   ],
   "source": [
    "import os\n",
    "import apache_beam as beam\n",
    "from apache_beam.options.pipeline_options import PipelineOptions\n",
    "from apache_beam.options.pipeline_options import SetupOptions\n",
    "from apache_beam.options.pipeline_options import GoogleCloudOptions\n",
    "from apache_beam.options.pipeline_options import StandardOptions\n",
    "from apache_beam.io import WriteToText\n",
    "import string\n",
    "\n",
    "table_spec = '`bigquery-public-data.hacker_news.full`'\n",
    "\n",
    "options=PipelineOptions()\n",
    "\n",
    "os.environ['GOOGLE_APPLICATION_CREDENTIALS'] = '/home/jupyter-albert.yumol@gmail-e7c4e/eskwelabshack-5b0b7c34019a.json'\n",
    "print(os.environ['GOOGLE_APPLICATION_CREDENTIALS'])\n",
    "\n",
    "options.view_as(SetupOptions).save_main_session = True\n",
    "options.view_as(GoogleCloudOptions).project = \"eskwelabshack\"\n",
    "# options.view_as(StandardOptions).runner = 'DataflowRunner'\n",
    "options.view_as(GoogleCloudOptions).temp_location='gs://eskwelabshack/temp'\n",
    "options.view_as(GoogleCloudOptions).staging_location='gs://eskwelabshack/staging'\n",
    "\n",
    "\n",
    "query = 'SELECT title FROM ' + table_spec + ' where type = ' + '\\'job\\' and title is not null order by score limit 100;'\n",
    "print(query)\n",
    "with beam.Pipeline(options=options) as p:\n",
    "   result = (\n",
    "   p\n",
    "   | \"Read Table\" >> beam.io.Read(beam.io.BigQuerySource(\n",
    "       query = query, use_standard_sql = True))\n",
    "   | beam.Map(lambda x: x['title'])\n",
    "   | beam.Map(lambda x:''.join([i for i in x if i not in string.punctuation]))\n",
    "   | beam.FlatMap(lambda x: x.lower().split(' '))\n",
    "   | \"Map for Sum\" >> beam.Map(lambda x: (x, 1))\n",
    "   | beam.CombinePerKey(sum)\n",
    "   | WriteToText('gs://eskwelabshack/output/word-count',num_shards = 1)\n",
    "   )"
   ]
  },
  {
   "cell_type": "code",
   "execution_count": 2,
   "metadata": {},
   "outputs": [
    {
     "ename": "ModuleNotFoundError",
     "evalue": "No module named 'wordcloud'",
     "output_type": "error",
     "traceback": [
      "\u001b[0;31m---------------------------------------------------------------------------\u001b[0m",
      "\u001b[0;31mModuleNotFoundError\u001b[0m                       Traceback (most recent call last)",
      "\u001b[0;32m<ipython-input-2-dc1828f2a80e>\u001b[0m in \u001b[0;36m<module>\u001b[0;34m\u001b[0m\n\u001b[0;32m----> 1\u001b[0;31m \u001b[0;32mimport\u001b[0m \u001b[0mwordcloud\u001b[0m\u001b[0;34m\u001b[0m\u001b[0;34m\u001b[0m\u001b[0m\n\u001b[0m",
      "\u001b[0;31mModuleNotFoundError\u001b[0m: No module named 'wordcloud'"
     ]
    }
   ],
   "source": [
    "import wordcloud"
   ]
  },
  {
   "cell_type": "code",
   "execution_count": 6,
   "metadata": {},
   "outputs": [
    {
     "name": "stdout",
     "output_type": "stream",
     "text": [
      "9\n",
      "4\n",
      "1\n",
      "25\n",
      "16\n"
     ]
    }
   ],
   "source": [
    "import os\n",
    "import apache_beam as beam\n",
    "from apache_beam.options.pipeline_options import PipelineOptions\n",
    "options=PipelineOptions()\n",
    "with beam.Pipeline(options=options) as p:\n",
    "    result = (\n",
    "    p\n",
    "    | beam.Create([3,2,1,5,4])\n",
    "    | \"test\" >> beam.ParDo(lambda x: [x*x])\n",
    "    | beam.ParDo(lambda x: print(x))\n",
    "    )"
   ]
  }
 ],
 "metadata": {
  "kernelspec": {
   "display_name": "Python 3",
   "language": "python",
   "name": "python3"
  },
  "language_info": {
   "codemirror_mode": {
    "name": "ipython",
    "version": 3
   },
   "file_extension": ".py",
   "mimetype": "text/x-python",
   "name": "python",
   "nbconvert_exporter": "python",
   "pygments_lexer": "ipython3",
   "version": "3.6.7"
  }
 },
 "nbformat": 4,
 "nbformat_minor": 2
}
