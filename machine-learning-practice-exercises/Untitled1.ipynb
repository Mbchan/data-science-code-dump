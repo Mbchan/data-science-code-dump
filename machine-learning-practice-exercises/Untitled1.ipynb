{
 "cells": [
  {
   "cell_type": "code",
   "execution_count": null,
   "metadata": {},
   "outputs": [
    {
     "name": "stderr",
     "output_type": "stream",
     "text": [
      "/opt/tljh/user/lib/python3.6/site-packages/sklearn/model_selection/_split.py:1978: FutureWarning: The default value of cv will change from 3 to 5 in version 0.22. Specify it explicitly to silence this warning.\n",
      "  warnings.warn(CV_WARNING, FutureWarning)\n"
     ]
    }
   ],
   "source": [
    "from sklearn.datasets import fetch_20newsgroups\n",
    "from sklearn.feature_extraction.text import CountVectorizer\n",
    "from sklearn.neighbors import KNeighborsClassifier\n",
    "from sklearn import metrics\n",
    "from sklearn.feature_extraction.text import TfidfTransformer, TfidfVectorizer\n",
    "import numpy as np\n",
    "from sklearn.naive_bayes import MultinomialNB\n",
    "from sklearn.model_selection import GridSearchCV\n",
    "\n",
    "\n",
    "\n",
    "categories = ['comp.sys.mac.hardware', 'rec.sport.hockey']\n",
    "newsgroups_train = fetch_20newsgroups(subset='train', categories=categories, remove=('headers', 'footers', 'quotes'))\n",
    "newsgroups_test  = fetch_20newsgroups(subset='test',  categories=categories, remove=('headers', 'footers', 'quotes'))\n",
    "\n",
    "\n",
    "from sklearn.pipeline import Pipeline\n",
    "classifier = Pipeline([ ('vect', CountVectorizer(stop_words='english')),\n",
    "                        ('tfidf', TfidfTransformer()),\n",
    "                        ('knn', KNeighborsClassifier())\n",
    "                        ])\n",
    "\n",
    "\n",
    "parameters = {'vect__ngram_range': [(1, 1), (1, 2)],\n",
    "              'tfidf__use_idf': (True, False),\n",
    "              'knn__n_neighbors': list(range(100,300))\n",
    "             }\n",
    "\n",
    "gs_classifier = GridSearchCV(classifier, parameters, n_jobs=-1)\n",
    "gs_classifier = gs_classifier.fit(newsgroups_train.data, newsgroups_train.target)\n",
    "\n",
    "print(gs_classifier.best_score_)\n",
    "print(gs_classifier.best_params_)\n",
    "\n",
    "# 0.9567062818336163\n",
    "# {'knn__n_neighbors': 107, 'tfidf__use_idf': True, 'vect__ngram_range': (1, 2)}\n",
    "# 0.9558573853989814\n",
    "# {'knn__n_neighbors': 205, 'tfidf__use_idf': True, 'vect__ngram_range': (1, 1)}"
   ]
  }
 ],
 "metadata": {
  "kernelspec": {
   "display_name": "Python 3",
   "language": "python",
   "name": "python3"
  },
  "language_info": {
   "codemirror_mode": {
    "name": "ipython",
    "version": 3
   },
   "file_extension": ".py",
   "mimetype": "text/x-python",
   "name": "python",
   "nbconvert_exporter": "python",
   "pygments_lexer": "ipython3",
   "version": "3.6.7"
  }
 },
 "nbformat": 4,
 "nbformat_minor": 2
}
