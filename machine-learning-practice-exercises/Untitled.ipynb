{
 "cells": [
  {
   "cell_type": "code",
   "execution_count": 25,
   "metadata": {},
   "outputs": [
    {
     "name": "stdout",
     "output_type": "stream",
     "text": [
      "There are  156  $10 biils and  4  $50 bills.\n"
     ]
    }
   ],
   "source": [
    "for x in range(0, 161):\n",
    "    y = 160 - x\n",
    "    sum_ = (10*x)+(50*y)\n",
    "    if sum_ <= 1760.0:\n",
    "        print('There are ', str(x), ' $10 biils and ',str(y), ' $50 bills.')\n",
    "        break"
   ]
  },
  {
   "cell_type": "code",
   "execution_count": 17,
   "metadata": {},
   "outputs": [
    {
     "name": "stdout",
     "output_type": "stream",
     "text": [
      "1 2 110\n",
      "2 36 1820\n",
      "3 35 1780\n",
      "4 35 1790\n",
      "5 35 1800\n",
      "6 35 1810\n",
      "7 35 1820\n",
      "8 34 1780\n",
      "9 34 1790\n",
      "10 34 1800\n",
      "11 34 1810\n",
      "12 34 1820\n",
      "13 33 1780\n",
      "14 33 1790\n",
      "15 33 1800\n",
      "16 33 1810\n",
      "17 33 1820\n",
      "18 32 1780\n",
      "19 32 1790\n",
      "20 32 1800\n",
      "21 32 1810\n",
      "22 32 1820\n",
      "23 31 1780\n",
      "24 31 1790\n",
      "25 31 1800\n",
      "26 31 1810\n",
      "27 31 1820\n",
      "28 30 1780\n",
      "29 30 1790\n",
      "30 30 1800\n",
      "31 30 1810\n",
      "32 30 1820\n",
      "33 29 1780\n",
      "34 29 1790\n",
      "35 29 1800\n",
      "36 29 1810\n",
      "37 29 1820\n",
      "38 28 1780\n",
      "39 28 1790\n",
      "40 28 1800\n",
      "41 28 1810\n",
      "42 28 1820\n",
      "43 27 1780\n",
      "44 27 1790\n",
      "45 27 1800\n",
      "46 27 1810\n",
      "47 27 1820\n",
      "48 26 1780\n",
      "49 26 1790\n",
      "50 26 1800\n",
      "51 26 1810\n",
      "52 26 1820\n",
      "53 25 1780\n",
      "54 25 1790\n",
      "55 25 1800\n",
      "56 25 1810\n",
      "57 25 1820\n",
      "58 24 1780\n",
      "59 24 1790\n",
      "60 24 1800\n",
      "61 24 1810\n",
      "62 24 1820\n",
      "63 23 1780\n",
      "64 23 1790\n",
      "65 23 1800\n",
      "66 23 1810\n",
      "67 23 1820\n",
      "68 22 1780\n",
      "69 22 1790\n",
      "70 22 1800\n",
      "71 22 1810\n",
      "72 22 1820\n",
      "73 21 1780\n",
      "74 21 1790\n",
      "75 21 1800\n",
      "76 21 1810\n",
      "77 21 1820\n",
      "78 20 1780\n",
      "79 20 1790\n",
      "80 20 1800\n",
      "81 20 1810\n",
      "82 20 1820\n",
      "83 19 1780\n",
      "84 19 1790\n",
      "85 19 1800\n",
      "86 19 1810\n",
      "87 19 1820\n",
      "88 18 1780\n",
      "89 18 1790\n",
      "90 18 1800\n",
      "91 18 1810\n",
      "92 18 1820\n",
      "93 17 1780\n",
      "94 17 1790\n",
      "95 17 1800\n",
      "96 17 1810\n",
      "97 17 1820\n",
      "98 16 1780\n",
      "99 16 1790\n",
      "100 16 1800\n",
      "101 16 1810\n",
      "102 16 1820\n",
      "103 15 1780\n",
      "104 15 1790\n",
      "105 15 1800\n",
      "106 15 1810\n",
      "107 15 1820\n",
      "108 14 1780\n",
      "109 14 1790\n",
      "110 14 1800\n",
      "111 14 1810\n",
      "112 14 1820\n",
      "113 13 1780\n",
      "114 13 1790\n",
      "115 13 1800\n",
      "116 13 1810\n",
      "117 13 1820\n",
      "118 12 1780\n",
      "119 12 1790\n",
      "120 12 1800\n",
      "121 12 1810\n",
      "122 12 1820\n",
      "123 11 1780\n",
      "124 11 1790\n",
      "125 11 1800\n",
      "126 11 1810\n",
      "127 11 1820\n",
      "128 10 1780\n",
      "129 10 1790\n",
      "130 10 1800\n",
      "131 10 1810\n",
      "132 10 1820\n",
      "133 9 1780\n",
      "134 9 1790\n",
      "135 9 1800\n",
      "136 9 1810\n",
      "137 9 1820\n",
      "138 8 1780\n",
      "139 8 1790\n",
      "140 8 1800\n",
      "141 8 1810\n",
      "142 8 1820\n",
      "143 7 1780\n",
      "144 7 1790\n",
      "145 7 1800\n",
      "146 7 1810\n",
      "147 7 1820\n",
      "148 6 1780\n",
      "149 6 1790\n",
      "150 6 1800\n",
      "151 6 1810\n",
      "152 6 1820\n",
      "153 5 1780\n",
      "154 5 1790\n",
      "155 5 1800\n",
      "156 5 1810\n",
      "157 4 1770\n",
      "158 3 1730\n",
      "159 2 1690\n",
      "160 2 1700\n"
     ]
    }
   ],
   "source": [
    "for x in range(1, 161):\n",
    "    print(str(x),str(y),str((10*x)+(50*y)))\n",
    "    for y in range(1, 160-x):\n",
    "        if((10*x)+(50*y) <= 1760.0):\n",
    "            y += 1\n",
    "        else: \n",
    "            break\n",
    "        "
   ]
  },
  {
   "cell_type": "code",
   "execution_count": 7,
   "metadata": {},
   "outputs": [
    {
     "data": {
      "text/plain": [
       "['socks', 'socks']"
      ]
     },
     "execution_count": 7,
     "metadata": {},
     "output_type": "execute_result"
    }
   ],
   "source": [
    "costs = {'socks':5, 'shoes':60, 'sweater':30}\n",
    "items = ['socks', 'shoes']\n",
    "items1 = ['socks', 's1', 'l', 'socks']\n",
    "\n",
    "a = set(costs.keys())\n",
    "found = [i for i in items1 if i in a]\n",
    "#d = [costs[x] for x in c]\n",
    "#a = [costs[x] for x in items1]\n",
    "\n",
    "#'socks' in costs.keys()\n",
    "\n",
    "#for x in items1:\n",
    "#    if x not in costs:\n",
    "#        del items1[x]\n",
    "    \n",
    "#items1\n",
    "#for x in items1:\n",
    "#    if x not in costs:\n",
    "#        return None\n",
    "#    else:\n",
    "#        a = [costs[x] for x in items1]\n",
    "#    return a\n",
    "found"
   ]
  },
  {
   "cell_type": "code",
   "execution_count": 37,
   "metadata": {},
   "outputs": [
    {
     "data": {
      "text/plain": [
       "66.00009"
      ]
     },
     "execution_count": 37,
     "metadata": {},
     "output_type": "execute_result"
    }
   ],
   "source": [
    "#i=0\n",
    "#for i in items:\n",
    "#    x = items[i]\n",
    "#    print(x)\n",
    "#print(costs)\n",
    "#items[0]\n",
    "#costs.get('socks', 'shoes')\n",
    "\n",
    "#i=0\n",
    "#for i in items:\n",
    "#    print(costs[items[i]])\n",
    "#items[0]\n",
    "tax = 1.00009\n",
    "a = [costs[x] for x in items]\n",
    "total = sum(a) + tax\n",
    "total"
   ]
  },
  {
   "cell_type": "code",
   "execution_count": 40,
   "metadata": {},
   "outputs": [],
   "source": [
    "def getTotal(costs, items, tax):\n",
    "    #Your code here\n",
    "    total = sum([costs[x] for x in items]) + tax\n",
    "    return total"
   ]
  },
  {
   "cell_type": "code",
   "execution_count": 41,
   "metadata": {},
   "outputs": [
    {
     "ename": "KeyError",
     "evalue": "'s'",
     "output_type": "error",
     "traceback": [
      "\u001b[0;31m---------------------------------------------------------------------------\u001b[0m",
      "\u001b[0;31mKeyError\u001b[0m                                  Traceback (most recent call last)",
      "\u001b[0;32m<ipython-input-41-3a2a0cdd59d1>\u001b[0m in \u001b[0;36m<module>\u001b[0;34m\u001b[0m\n\u001b[0;32m----> 1\u001b[0;31m \u001b[0mgetTotal\u001b[0m\u001b[0;34m(\u001b[0m\u001b[0mcosts\u001b[0m\u001b[0;34m,\u001b[0m \u001b[0;34m[\u001b[0m\u001b[0;34m'socks'\u001b[0m\u001b[0;34m,\u001b[0m \u001b[0;34m's'\u001b[0m\u001b[0;34m]\u001b[0m\u001b[0;34m,\u001b[0m \u001b[0;36m0.09\u001b[0m\u001b[0;34m)\u001b[0m\u001b[0;34m\u001b[0m\u001b[0;34m\u001b[0m\u001b[0m\n\u001b[0m",
      "\u001b[0;32m<ipython-input-40-26b52f3632c8>\u001b[0m in \u001b[0;36mgetTotal\u001b[0;34m(costs, items, tax)\u001b[0m\n\u001b[1;32m      1\u001b[0m \u001b[0;32mdef\u001b[0m \u001b[0mgetTotal\u001b[0m\u001b[0;34m(\u001b[0m\u001b[0mcosts\u001b[0m\u001b[0;34m,\u001b[0m \u001b[0mitems\u001b[0m\u001b[0;34m,\u001b[0m \u001b[0mtax\u001b[0m\u001b[0;34m)\u001b[0m\u001b[0;34m:\u001b[0m\u001b[0;34m\u001b[0m\u001b[0;34m\u001b[0m\u001b[0m\n\u001b[1;32m      2\u001b[0m     \u001b[0;31m#Your code here\u001b[0m\u001b[0;34m\u001b[0m\u001b[0;34m\u001b[0m\u001b[0;34m\u001b[0m\u001b[0m\n\u001b[0;32m----> 3\u001b[0;31m     \u001b[0mtotal\u001b[0m \u001b[0;34m=\u001b[0m \u001b[0msum\u001b[0m\u001b[0;34m(\u001b[0m\u001b[0;34m[\u001b[0m\u001b[0mcosts\u001b[0m\u001b[0;34m[\u001b[0m\u001b[0mx\u001b[0m\u001b[0;34m]\u001b[0m \u001b[0;32mfor\u001b[0m \u001b[0mx\u001b[0m \u001b[0;32min\u001b[0m \u001b[0mitems\u001b[0m\u001b[0;34m]\u001b[0m\u001b[0;34m)\u001b[0m \u001b[0;34m+\u001b[0m \u001b[0mtax\u001b[0m\u001b[0;34m\u001b[0m\u001b[0;34m\u001b[0m\u001b[0m\n\u001b[0m\u001b[1;32m      4\u001b[0m     \u001b[0;32mreturn\u001b[0m \u001b[0mtotal\u001b[0m\u001b[0;34m\u001b[0m\u001b[0;34m\u001b[0m\u001b[0m\n",
      "\u001b[0;32m<ipython-input-40-26b52f3632c8>\u001b[0m in \u001b[0;36m<listcomp>\u001b[0;34m(.0)\u001b[0m\n\u001b[1;32m      1\u001b[0m \u001b[0;32mdef\u001b[0m \u001b[0mgetTotal\u001b[0m\u001b[0;34m(\u001b[0m\u001b[0mcosts\u001b[0m\u001b[0;34m,\u001b[0m \u001b[0mitems\u001b[0m\u001b[0;34m,\u001b[0m \u001b[0mtax\u001b[0m\u001b[0;34m)\u001b[0m\u001b[0;34m:\u001b[0m\u001b[0;34m\u001b[0m\u001b[0;34m\u001b[0m\u001b[0m\n\u001b[1;32m      2\u001b[0m     \u001b[0;31m#Your code here\u001b[0m\u001b[0;34m\u001b[0m\u001b[0;34m\u001b[0m\u001b[0;34m\u001b[0m\u001b[0m\n\u001b[0;32m----> 3\u001b[0;31m     \u001b[0mtotal\u001b[0m \u001b[0;34m=\u001b[0m \u001b[0msum\u001b[0m\u001b[0;34m(\u001b[0m\u001b[0;34m[\u001b[0m\u001b[0mcosts\u001b[0m\u001b[0;34m[\u001b[0m\u001b[0mx\u001b[0m\u001b[0;34m]\u001b[0m \u001b[0;32mfor\u001b[0m \u001b[0mx\u001b[0m \u001b[0;32min\u001b[0m \u001b[0mitems\u001b[0m\u001b[0;34m]\u001b[0m\u001b[0;34m)\u001b[0m \u001b[0;34m+\u001b[0m \u001b[0mtax\u001b[0m\u001b[0;34m\u001b[0m\u001b[0;34m\u001b[0m\u001b[0m\n\u001b[0m\u001b[1;32m      4\u001b[0m     \u001b[0;32mreturn\u001b[0m \u001b[0mtotal\u001b[0m\u001b[0;34m\u001b[0m\u001b[0;34m\u001b[0m\u001b[0m\n",
      "\u001b[0;31mKeyError\u001b[0m: 's'"
     ]
    }
   ],
   "source": [
    "getTotal(costs, ['socks', 's'], 0.09)"
   ]
  }
 ],
 "metadata": {
  "kernelspec": {
   "display_name": "Python 3",
   "language": "python",
   "name": "python3"
  },
  "language_info": {
   "codemirror_mode": {
    "name": "ipython",
    "version": 3
   },
   "file_extension": ".py",
   "mimetype": "text/x-python",
   "name": "python",
   "nbconvert_exporter": "python",
   "pygments_lexer": "ipython3",
   "version": "3.6.7"
  }
 },
 "nbformat": 4,
 "nbformat_minor": 2
}
