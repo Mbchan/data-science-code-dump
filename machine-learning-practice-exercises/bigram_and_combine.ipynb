{
 "cells": [
  {
   "cell_type": "code",
   "execution_count": null,
   "metadata": {},
   "outputs": [
    {
     "name": "stdout",
     "output_type": "stream",
     "text": [
      "/home/jupyter-anurag/service3.json\n",
      "SELECT text FROM `bigquery-public-data.hacker_news.comments`;\n"
     ]
    },
    {
     "name": "stderr",
     "output_type": "stream",
     "text": [
      "WARNING:root:Discarding unparseable args: ['-f', '/home/jupyter-anurag/.local/share/jupyter/runtime/kernel-d860b4ce-4353-4c6f-9c46-4ae928abfa3a.json']\n",
      "WARNING:root:Discarding unparseable args: ['-f', '/home/jupyter-anurag/.local/share/jupyter/runtime/kernel-d860b4ce-4353-4c6f-9c46-4ae928abfa3a.json']\n"
     ]
    }
   ],
   "source": [
    "import os\n",
    "import apache_beam as beam\n",
    "from apache_beam.options.pipeline_options import PipelineOptions\n",
    "from apache_beam.options.pipeline_options import SetupOptions\n",
    "from apache_beam.options.pipeline_options import GoogleCloudOptions\n",
    "from apache_beam.options.pipeline_options import StandardOptions\n",
    "from apache_beam.io import WriteToText\n",
    "import re\n",
    "\n",
    "table_spec = '`bigquery-public-data.hacker_news.comments`'\n",
    "\n",
    "options=PipelineOptions()\n",
    "\n",
    "os.environ['GOOGLE_APPLICATION_CREDENTIALS'] = '/home/jupyter-anurag/service3.json'\n",
    "print(os.environ['GOOGLE_APPLICATION_CREDENTIALS'])\n",
    "\n",
    "options.view_as(SetupOptions).save_main_session = True\n",
    "options.view_as(GoogleCloudOptions).project = \"anurag-project-1\"\n",
    "options.view_as(StandardOptions).runner = 'DataflowRunner'\n",
    "options.view_as(GoogleCloudOptions).temp_location='gs://anurag-manila1/temp'\n",
    "options.view_as(GoogleCloudOptions).staging_location='gs://anurag-manila1/staging'\n",
    "\n",
    "\n",
    "query = 'SELECT text FROM ' + table_spec + ';'\n",
    "\n",
    "def CountBiGrams(text):\n",
    "    if text is None:\n",
    "        return []\n",
    "    lt = text.lower()\n",
    "    words = re.split(\"\\\\W+\", lt)\n",
    "    return [ (words[i] + \" \" + words[i + 1], 1) for i in range(len(words) - 1)]  \n",
    "\n",
    "print(query)\n",
    "with beam.Pipeline(options=options) as p:\n",
    "    result = (\n",
    "    p\n",
    "    | 'ReadTable' >> beam.io.Read(beam.io.BigQuerySource(\n",
    "        query=query, use_standard_sql=True))\n",
    "    | beam.Map(lambda elem: elem['text'])\n",
    "        | 'bigram' >> beam.FlatMap(CountBiGrams)\n",
    "        | beam.CombinePerKey(sum)\n",
    "        | beam.Filter(lambda wc: wc[1] > 20)\n",
    "        | WriteToText('gs://anurag-manila1/output/bigrams')\n",
    "    )\n"
   ]
  },
  {
   "cell_type": "code",
   "execution_count": 13,
   "metadata": {},
   "outputs": [
    {
     "name": "stdout",
     "output_type": "stream",
     "text": [
      "9.166666666666666\n"
     ]
    }
   ],
   "source": [
    "import os\n",
    "import apache_beam as beam\n",
    "from apache_beam.options.pipeline_options import PipelineOptions\n",
    "\n",
    "options=PipelineOptions()\n",
    "\n",
    "class SquareFn(beam.DoFn):\n",
    "    def start_bundle(self):\n",
    "        # Do a one time operation\n",
    "        pass\n",
    "\n",
    "    def process(self, x):\n",
    "        return [x * x];\n",
    "\n",
    "class AverageFn(beam.CombineFn):\n",
    "  def create_accumulator(self):\n",
    "    return []  # sum, count\n",
    "\n",
    "  def add_input(self, accumulated_value, input):\n",
    "    accumulated_value.append(input)\n",
    "    return accumulated_value;\n",
    "\n",
    "  def merge_accumulators(self, accumulators):\n",
    "    result = []\n",
    "    for acc in accumulators:\n",
    "        result.extend(acc)\n",
    "    return result\n",
    "\n",
    "  def extract_output(self, sum_count):\n",
    "    if len(sum_count) == 0:\n",
    "        return 0\n",
    "    return sum(sum_count) / len(sum_count);\n",
    "\n",
    "\n",
    "with beam.Pipeline(options=options) as p:\n",
    "    result = (\n",
    "    p\n",
    "    | beam.Create([3, 2, 1, 5, 4])\n",
    "        | \"test\" >> beam.ParDo(SquareFn())\n",
    "        | beam.CombineGlobally(AverageFn())\n",
    "        | beam.ParDo(lambda x: print(x))\n",
    "    )\n"
   ]
  },
  {
   "cell_type": "code",
   "execution_count": null,
   "metadata": {},
   "outputs": [],
   "source": []
  }
 ],
 "metadata": {
  "kernelspec": {
   "display_name": "Python 3",
   "language": "python",
   "name": "python3"
  },
  "language_info": {
   "codemirror_mode": {
    "name": "ipython",
    "version": 3
   },
   "file_extension": ".py",
   "mimetype": "text/x-python",
   "name": "python",
   "nbconvert_exporter": "python",
   "pygments_lexer": "ipython3",
   "version": "3.6.7"
  }
 },
 "nbformat": 4,
 "nbformat_minor": 2
}
