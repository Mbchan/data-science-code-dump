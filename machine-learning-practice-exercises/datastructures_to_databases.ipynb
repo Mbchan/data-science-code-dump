{
 "cells": [
  {
   "cell_type": "markdown",
   "metadata": {
    "colab_type": "text",
    "id": "_C0XH3oyk5P9"
   },
   "source": [
    "**Short assignment on OOP** \n",
    "\n",
    "Implement the classes Rectangle and Square so that they print the areas correctly."
   ]
  },
  {
   "cell_type": "code",
   "execution_count": 14,
   "metadata": {
    "colab": {},
    "colab_type": "code",
    "id": "jBiVixZJkzNe"
   },
   "outputs": [
    {
     "name": "stdout",
     "output_type": "stream",
     "text": [
      "16\n"
     ]
    }
   ],
   "source": [
    "import math\n",
    "\n",
    "class Shape:\n",
    "  def getArea(self):\n",
    "    return 0\n",
    "  \n",
    "  def printArea(self):\n",
    "    print(self.getArea());\n",
    "\n",
    "\n",
    "class Circle(Shape):\n",
    "  def __init__(self, r):\n",
    "    self.radius = r;\n",
    "  \n",
    "  def getArea(self):\n",
    "    return math.pi * self.radius * self.radius;\n",
    "\n",
    "class Rectange(Shape):\n",
    "  def __init__(self, length, breadth):\n",
    "    self.length = length\n",
    "    self.breadth = breadth\n",
    "\n",
    "  def getArea(self):\n",
    "    return self.length * self.breadth\n",
    "\n",
    "class Square(Rectange):\n",
    "  def __init__(self, length):\n",
    "    super().__init__(length,length)\n",
    "\n",
    "  #def getArea(self):\n",
    "    #return self.length * self.length\n",
    "\n",
    "\n",
    "#c1 = Circle(3)\n",
    "#c1.printArea();\n",
    "\n",
    "# Implement class Rectangle above properly so that the code below prints the correct area i.e. 10\n",
    "#r1 = Rectange(2, 5)\n",
    "#r1.printArea();\n",
    "\n",
    "# Implement class Square and uncomment the code below so that it prints the correct area i.e 16\n",
    "# Remmber that Square is a special case of Rectangle.\n",
    "\n",
    "s1 = Square(4);\n",
    "s1.printArea();"
   ]
  }
 ],
 "metadata": {
  "colab": {
   "collapsed_sections": [],
   "name": "datastructures_to_databases.ipynb",
   "provenance": [],
   "version": "0.3.2"
  },
  "kernelspec": {
   "display_name": "Python 3",
   "language": "python",
   "name": "python3"
  },
  "language_info": {
   "codemirror_mode": {
    "name": "ipython",
    "version": 3
   },
   "file_extension": ".py",
   "mimetype": "text/x-python",
   "name": "python",
   "nbconvert_exporter": "python",
   "pygments_lexer": "ipython3",
   "version": "3.6.7"
  }
 },
 "nbformat": 4,
 "nbformat_minor": 1
}
