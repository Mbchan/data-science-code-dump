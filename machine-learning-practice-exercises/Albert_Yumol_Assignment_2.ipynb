{
 "cells": [
  {
   "cell_type": "markdown",
   "metadata": {
    "colab_type": "text",
    "id": "51dZwqDNc9x6"
   },
   "source": [
    "# Data Science - Getting Started with Python\n",
    "\n",
    "Following are exercises you should complete. Workflow:\n",
    "\n",
    "1. Complete the exercises! This means fill out the code cells, and run them (shift-enter or click the play button that appears when you're in one of them)\n",
    "2. Take a look at your work, and write comments/add text cells as appropriate to explain\n",
    "3. Upload the notebook to your GitHub repository and submit a link [here](https://docs.google.com/forms/d/e/1FAIpQLScdlw-GN3tHPHxROIulxoPmxXmvK-UmXco3lgjiJ0Ckltn6QA/viewform?usp=sf_link)"
   ]
  },
  {
   "cell_type": "markdown",
   "metadata": {
    "colab_type": "text",
    "id": "I6biutgwdgpb"
   },
   "source": [
    "## Exercise 1 - A bit of Math\n",
    "\n",
    "For these \"word\" problems, use Python to clearly solve them. Your code will \"show your work\" - use good variable names! To show your answers you should write a `print()` statement at the end.\n",
    "\n",
    "### a) It's a gas\n",
    "\n",
    "A taxi driver is calculating their profit over two weeks by adding up the fares they charge and subtracting the cost of gas. The price of gas changes over time - it was `$3.52`/gallon the first week and `$3.57`/gallon this second week. Their car gets 20 miles per gallon.\n",
    "\n",
    "For the first week the driver had a total of 23 passengers with average `$29` fare each, and drove a total of 160 miles. For the second week they had 17 passengers with average `$30` fare each, and drove a total of 220 miles. Assume that for both weeks they purchase all the gas needed during that week (i.e. they refuel every week to maintain a constant level of gas in the tank).\n",
    "\n",
    "Based on the above, answer the following questions:\n",
    "\n",
    "- What is their total profit over both weeks?\n",
    "- During which week was their average (mean) profit per passenger higher?\n"
   ]
  },
  {
   "cell_type": "code",
   "execution_count": 31,
   "metadata": {
    "colab": {},
    "colab_type": "code",
    "id": "CWJeYQW6AoGf"
   },
   "outputs": [
    {
     "name": "stdout",
     "output_type": "stream",
     "text": [
      "The total profit over both weeks is $1109.57.\n",
      "The average profit per passenger is higher in Week 1 ($27.78).\n"
     ]
    }
   ],
   "source": [
    "# define the variables\n",
    "price1 = 3.52      # $/gallon\n",
    "price2 = 3.57 \n",
    "fueleff = 20       # miles/gallon\n",
    "fare1 = 29         # $\n",
    "pass1 = 23\n",
    "rev1 = fare1*pass1 # calculates the revenue for week1\n",
    "w1 = 160           # miles\n",
    "fare2 = 30         # $\n",
    "pass2 = 17\n",
    "rev2 = fare2*pass2 # calculates the revenue for week2\n",
    "w2 = 220           # miles\n",
    "\n",
    "#calculate the profit\n",
    "profit_w1 = rev1 - price1/fueleff*w1\n",
    "profit_w2 = rev2 - price2/fueleff*w2\n",
    "total_profit = round(profit_w1+profit_w2,2)\n",
    "print('The total profit over both weeks is $'+str(total_profit)+\".\")\n",
    "\n",
    "#calculate the average profit per passenger\n",
    "aveprofit_w1 = round(profit_w1/pass1,2)\n",
    "aveprofit_w2 = round(profit_w2/pass2,2)\n",
    "\n",
    "if aveprofit_w1 > aveprofit_w2:\n",
    "    print('The average profit per passenger is higher in Week 1 ($'+str(aveprofit_w1)+').')\n",
    "else:\n",
    "    print('The average profit per passenger is higher in Week 2 ($'+str(aveprofit_w2)+').')"
   ]
  },
  {
   "cell_type": "markdown",
   "metadata": {
    "colab_type": "text",
    "id": "0l4bUPHmR5Ko"
   },
   "source": [
    "### b) Mo' money...\n",
    "\n",
    "A cash drawer contains 160 bills, all 10s and 50s. The total value of the 10s and 50s is $1,760.\n",
    "\n",
    "How many of each type of bill are in the drawer? You can figure this out by trial and error (or by doing algebra with pencil and paper), but try to use loops and conditionals to check a plausible possibilities and stop when you find the correct one."
   ]
  },
  {
   "cell_type": "code",
   "execution_count": 1,
   "metadata": {
    "colab": {},
    "colab_type": "code",
    "id": "Q2Atz_kyR8_6"
   },
   "outputs": [
    {
     "name": "stdout",
     "output_type": "stream",
     "text": [
      "There are  156  $10 biils and  4  $50 bills.\n"
     ]
    }
   ],
   "source": [
    "for x in range(0, 161):\n",
    "    y = 160 - x\n",
    "    sum_ = (10*x)+(50*y)\n",
    "    if sum_ <= 1760.0:\n",
    "        print('There are ', str(x), ' $10 biils and ',str(y), ' $50 bills.')\n",
    "        break"
   ]
  }
 ],
 "metadata": {
  "colab": {
   "collapsed_sections": [],
   "name": "LSDS Intro Assignment 1 - Getting Started with Python.ipynb",
   "provenance": [],
   "version": "0.3.2"
  },
  "kernelspec": {
   "display_name": "Python 3",
   "language": "python",
   "name": "python3"
  },
  "language_info": {
   "codemirror_mode": {
    "name": "ipython",
    "version": 3
   },
   "file_extension": ".py",
   "mimetype": "text/x-python",
   "name": "python",
   "nbconvert_exporter": "python",
   "pygments_lexer": "ipython3",
   "version": "3.6.7"
  }
 },
 "nbformat": 4,
 "nbformat_minor": 1
}
