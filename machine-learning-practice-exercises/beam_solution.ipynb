{
 "cells": [
  {
   "cell_type": "code",
   "execution_count": null,
   "metadata": {},
   "outputs": [],
   "source": [
    "# Class assignment - Write code\n",
    "# From the household.csv file dump number of male and females.\n",
    "import csv\n",
    "import apache_beam as beam\n",
    "from apache_beam.options.pipeline_options import PipelineOptions\n",
    "\n",
    "with open('/home/data/household.csv','r') as f:\n",
    "    data = csv.reader(f)\n",
    "    next(data)  # Skip header line\n",
    "    with beam.Pipeline(options=PipelineOptions()) as p:\n",
    "        lines = p | beam.Create(data)            # Every line from csv goes as an element in PCollection\n",
    "        (lines\n",
    "        | beam.Map(lambda line: (line[2], 1))    # Input is [id, age, gender, profession], Output gender->1\n",
    "        | beam.CombinePerKey(sum)          # sum up the values per key\n",
    "        | beam.ParDo(lambda k: print(k)))           # Print. \n",
    "\n"
   ]
  },
  {
   "cell_type": "code",
   "execution_count": null,
   "metadata": {},
   "outputs": [],
   "source": [
    "# Class assignment - Write code\n",
    "# From the household.csv file dump number of children (<18 years), working-age (19-60 years), old (>60 years).\n",
    "\n",
    "import csv\n",
    "import apache_beam as beam\n",
    "from apache_beam.options.pipeline_options import PipelineOptions\n",
    "\n",
    "def classifyAge(line):\n",
    "    # Input is [id, age, gender, profession], Output age-category -> 1\n",
    "    age = int(line[1])\n",
    "    if age < 18:\n",
    "        return (\"child\", 1)\n",
    "    if age > 60:\n",
    "        return (\"old\", 1)\n",
    "    return (\"working-age\", 1)\n",
    "        \n",
    "with open('/home/data/household.csv','r') as f:\n",
    "    data = csv.reader(f)\n",
    "    next(data)  # Skip header line\n",
    "    with beam.Pipeline(options=PipelineOptions()) as p:\n",
    "        lines = p | beam.Create(data)            # Every line from csv goes as an element in PCollection\n",
    "        (lines\n",
    "        | beam.Map(classifyAge)\n",
    "        | beam.CombinePerKey(sum)          # sum up the values per key\n",
    "        | beam.ParDo(lambda k: print(k)))           # Print. \n",
    "\n"
   ]
  },
  {
   "cell_type": "code",
   "execution_count": null,
   "metadata": {},
   "outputs": [],
   "source": [
    "# Class assignment - Describe phases and transforms, no need to code.\n",
    "# From the household.csv how would you compute median savings using beam?\n",
    "\n",
    "# Solution:\n",
    "#  First we need to compute savings for every household.\n",
    "#    For that we need to compute income/expenditure for every person.\n",
    "#    But, computing income for a business-person needs the number of adults in the household. So the very first thing\n",
    "#     we need to do is to compute the number of adults in every household. To do this -\n",
    "#\n",
    "#  Map every line (i.e) person to output household-id -> (person-details).\n",
    "#\n",
    "#  Use group by key to bring details of every-person per household at one place.\n",
    "#\n",
    "#  Next phase compute savings for the household, now that we have all the details in one place. Output savings.\n",
    "#\n",
    "#  Next phase sort and find median."
   ]
  },
  {
   "cell_type": "code",
   "execution_count": null,
   "metadata": {},
   "outputs": [],
   "source": [
    "import csv\n",
    "import apache_beam as beam\n",
    "from apache_beam.options.pipeline_options import PipelineOptions\n",
    "\n",
    "def collateHousehold(input):\n",
    "    (id, household_lines) = input\n",
    "    num_adults = 0;\n",
    "    for line in household_lines:\n",
    "        age = int(line[1])\n",
    "        if age > 18:\n",
    "            num_adults += 1;\n",
    "    total_savings = 0;\n",
    "    for line in household_lines:\n",
    "        # Now compute everyones income/expenditure\n",
    "        pass\n",
    "    return 0  # Return computed values\n",
    "\n",
    "with open('/home/data/household.csv','r') as f:\n",
    "    data = csv.reader(f)\n",
    "    next(data)  # Skip header line\n",
    "    with beam.Pipeline(options=PipelineOptions()) as p:\n",
    "        lines = p | beam.Create(data)            # Every line from csv goes as an element in PCollection\n",
    "        (lines\n",
    "        | beam.Map(lambda line: (line[0], line)) # house-id -> person-details\n",
    "        | beam.GroupByKey()          # Collate person-details\n",
    "        | beam.Map(collateHousehold)\n",
    "        | beam.ParDo(lambda x: print(x))\n",
    "        )\n",
    " \n"
   ]
  }
 ],
 "metadata": {
  "kernelspec": {
   "display_name": "Python 3",
   "language": "python",
   "name": "python3"
  },
  "language_info": {
   "codemirror_mode": {
    "name": "ipython",
    "version": 3
   },
   "file_extension": ".py",
   "mimetype": "text/x-python",
   "name": "python",
   "nbconvert_exporter": "python",
   "pygments_lexer": "ipython3",
   "version": "3.6.7"
  }
 },
 "nbformat": 4,
 "nbformat_minor": 2
}
